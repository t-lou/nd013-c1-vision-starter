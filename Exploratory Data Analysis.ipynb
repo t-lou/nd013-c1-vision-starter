{
 "cells": [
  {
   "cell_type": "markdown",
   "metadata": {},
   "source": [
    "# Explore the dataset\n",
    "\n",
    "\n",
    "In this notebook, we will perform an EDA (Exploratory Data Analysis) on the processed Waymo dataset (data in the `processed` folder). In the first part, you will create a function to display "
   ]
  },
  {
   "cell_type": "code",
   "execution_count": null,
   "metadata": {
    "scrolled": true
   },
   "outputs": [],
   "source": [
    "from utils import get_dataset"
   ]
  },
  {
   "cell_type": "code",
   "execution_count": null,
   "metadata": {
    "scrolled": true
   },
   "outputs": [],
   "source": [
    "dataset = get_dataset('/app/project/data/processed/segment-1005081002024129653_5313_150_5333_150_with_camera_labels.tfrecord')"
   ]
  },
  {
   "cell_type": "markdown",
   "metadata": {},
   "source": [
    "## Write a function to display an image and the bounding boxes\n",
    "\n",
    "Implement the `display_instances` function below. This function takes a batch as an input and display an image with its corresponding bounding boxes. The only requirement is that the classes should be color coded (eg, vehicles in red, pedestrians in blue, cyclist in green)."
   ]
  },
  {
   "cell_type": "code",
   "execution_count": null,
   "metadata": {
    "scrolled": true
   },
   "outputs": [],
   "source": [
    "%matplotlib inline\n",
    "\n",
    "def display_instances(batch):\n",
    "    \"\"\"\n",
    "    This function takes a batch from the dataset and display the image with \n",
    "    the associated bounding boxes.\n",
    "    \"\"\"\n",
    "    import matplotlib\n",
    "    import matplotlib.patches\n",
    "    import matplotlib.pyplot\n",
    "    colors = {\n",
    "        1: 'r',\n",
    "        2: 'g',\n",
    "        4: 'b',\n",
    "    }\n",
    "    img = batch['image'].numpy()\n",
    "    matplotlib.pyplot.imshow(img)\n",
    "    gt_bboxes = batch['groundtruth_boxes'].numpy()\n",
    "    gt_classes = batch['groundtruth_classes'].numpy()\n",
    "    img_size = batch['original_image_spatial_shape'].numpy()\n",
    "    gt_bboxes[:,:2] *= img_size\n",
    "    gt_bboxes[:,2:] *= img_size\n",
    "    for gt_bbox, gt_class in zip(gt_bboxes, gt_classes):\n",
    "        offset = gt_bbox[:2]\n",
    "        size = gt_bbox[2:] - offset\n",
    "        rect = matplotlib.patches.Rectangle(\n",
    "            offset[::-1].tolist(),\n",
    "            size[1], size[0],\n",
    "            linewidth=1,\n",
    "            edgecolor=colors[gt_class] if gt_class in colors else 'white',\n",
    "            facecolor='none')\n",
    "        matplotlib.pyplot.gca().add_patch(rect)\n",
    "    matplotlib.pyplot.show()"
   ]
  },
  {
   "cell_type": "markdown",
   "metadata": {},
   "source": [
    "## Display 10 images \n",
    "\n",
    "Using the dataset created in the second cell and the function you just coded, display 10 random images with the associated bounding boxes. You can use the methods `take` and `shuffle` on the dataset."
   ]
  },
  {
   "cell_type": "code",
   "execution_count": null,
   "metadata": {
    "scrolled": true
   },
   "outputs": [],
   "source": [
    "for data in dataset.shuffle(10):\n",
    "    display_instances(data)"
   ]
  },
  {
   "cell_type": "markdown",
   "metadata": {},
   "source": [
    "## Additional EDA\n",
    "\n",
    "In this last part, you are free to perform any additional analysis of the dataset. What else would like to know about the data?\n",
    "For example, think about data distribution. So far, you have only looked at a single file..."
   ]
  },
  {
   "cell_type": "code",
   "execution_count": null,
   "metadata": {
    "scrolled": true
   },
   "outputs": [],
   "source": []
  }
 ],
 "metadata": {
  "kernelspec": {
   "display_name": "Python 3 (ipykernel)",
   "language": "python",
   "name": "python3"
  },
  "language_info": {
   "codemirror_mode": {
    "name": "ipython",
    "version": 3
   },
   "file_extension": ".py",
   "mimetype": "text/x-python",
   "name": "python",
   "nbconvert_exporter": "python",
   "pygments_lexer": "ipython3",
   "version": "3.8.10"
  }
 },
 "nbformat": 4,
 "nbformat_minor": 4
}
